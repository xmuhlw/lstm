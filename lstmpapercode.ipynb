{
 "cells": [
  {
   "cell_type": "code",
   "execution_count": 23,
   "metadata": {},
   "outputs": [],
   "source": [
    "import tensorflow as tf\n",
    "import pandas as pd\n",
    "from keras.callbacks import TensorBoard#导入tensorboard\n",
    "from keras.models import Sequential#导入Sequential，构建神经网络\n",
    "from keras.layers import LSTM,Dense,Dropout,Flatten\n",
    "from sklearn.preprocessing import StandardScaler#导入StandardScaler进行数据预处理,归一化处理\n",
    "from sklearn.model_selection import train_test_split#划分训练集以及数据删除空值集\n",
    "import matplotlib.pyplot as plt\n",
    "import functools\n"
   ]
  },
  {
   "cell_type": "code",
   "execution_count": 29,
   "metadata": {},
   "outputs": [
    {
     "name": "stdout",
     "output_type": "stream",
     "text": [
      "2394\n"
     ]
    },
    {
     "data": {
      "text/plain": [
       "'2.9.1'"
      ]
     },
     "execution_count": 29,
     "metadata": {},
     "output_type": "execute_result"
    }
   ],
   "source": [
    "#导入数据\n",
    "df = pd.read_csv('debutanizer_y_10.csv',header = None)#导入数据集数据；\n",
    "df.dropna(how='any',inplace=True)#删除空值,并对原数据进行覆盖；\n",
    "print(len(df))\n",
    "tf.__version__\n"
   ]
  },
  {
   "cell_type": "code",
   "execution_count": null,
   "metadata": {},
   "outputs": [],
   "source": []
  }
 ],
 "metadata": {
  "interpreter": {
   "hash": "485a953d1e1fede342f8f7b4d38f9442f97918c1e7dd1151919e5eb8c7b4684a"
  },
  "kernelspec": {
   "display_name": "Python 3.9.12 ('tensorflow-gpu')",
   "language": "python",
   "name": "python3"
  },
  "language_info": {
   "codemirror_mode": {
    "name": "ipython",
    "version": 3
   },
   "file_extension": ".py",
   "mimetype": "text/x-python",
   "name": "python",
   "nbconvert_exporter": "python",
   "pygments_lexer": "ipython3",
   "version": "3.9.12"
  },
  "orig_nbformat": 4
 },
 "nbformat": 4,
 "nbformat_minor": 2
}
