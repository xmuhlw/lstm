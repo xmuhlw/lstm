{
 "cells": [
  {
   "cell_type": "code",
   "execution_count": 2,
   "metadata": {},
   "outputs": [],
   "source": [
    "import tensorflow as tf\n",
    "import pandas as pd\n",
    "\n",
    "from keras.models import Sequential#导入Sequential，构建神经网络\n",
    "from keras.layers import LSTM,Dense,Dropout,Flatten\n",
    "from sklearn.preprocessing import StandardScaler#导入StandardScaler进行数据预处理,归一化处理\n",
    "from sklearn.model_selection import train_test_split#划分训练集以及数据删除空值集\n",
    "import matplotlib.pyplot as plt\n",
    "from pandas import DataFrame\n"
   ]
  },
  {
   "cell_type": "code",
   "execution_count": 19,
   "metadata": {},
   "outputs": [
    {
     "name": "stdout",
     "output_type": "stream",
     "text": [
      "Int64Index([   1,    2,    3,    4,    5,    6,    7,    8,    9,   10,\n",
      "            ...\n",
      "            2385, 2386, 2387, 2388, 2389, 2390, 2391, 2392, 2393, 2394],\n",
      "           dtype='int64', length=2394) \n",
      "\n",
      "Index(['y1', 'x2', 'x3', 'x4', 'x5', 'x6', 'x7'], dtype='object') \n",
      "\n",
      "<class 'pandas.core.indexes.base.Index'> \n",
      "\n",
      "    y1  x2  x3  x4  x5  x6  x7\n",
      "2  NaN NaN NaN NaN NaN NaN NaN\n",
      "3  NaN NaN NaN NaN NaN NaN NaN\n",
      "4  NaN NaN NaN NaN NaN NaN NaN\n",
      "5  NaN NaN NaN NaN NaN NaN NaN\n",
      "6  NaN NaN NaN NaN NaN NaN NaN\n",
      "7  NaN NaN NaN NaN NaN NaN NaN\n",
      "8  NaN NaN NaN NaN NaN NaN NaN\n",
      "9  NaN NaN NaN NaN NaN NaN NaN\n",
      "10 NaN NaN NaN NaN NaN NaN NaN\n"
     ]
    }
   ],
   "source": [
    "#导入数据\n",
    "df = pd.read_csv('debutanizer_y_10.csv',header = None)#导入数据集数据；\n",
    "df.dropna(how='any',inplace=True)#删除空值,并对原数据进行覆盖；\n",
    "df = DataFrame(df,columns=['y1','x2','x3','x4','x5','x6','x7'])\n",
    "pd.set_option('display.unicode.east_asian_width',True)\n",
    "print(df.index,'\\n')\n",
    "print(df.columns,'\\n')\n",
    "print(type(df.columns),'\\n')\n",
    "\n",
    "print(df[:][1:10]) #第一个中括号里的冒号表示所有"
   ]
  },
  {
   "cell_type": "code",
   "execution_count": null,
   "metadata": {},
   "outputs": [],
   "source": []
  }
 ],
 "metadata": {
  "interpreter": {
   "hash": "485a953d1e1fede342f8f7b4d38f9442f97918c1e7dd1151919e5eb8c7b4684a"
  },
  "kernelspec": {
   "display_name": "Python 3.9.12 ('tensorflow-gpu')",
   "language": "python",
   "name": "python3"
  },
  "language_info": {
   "codemirror_mode": {
    "name": "ipython",
    "version": 3
   },
   "file_extension": ".py",
   "mimetype": "text/x-python",
   "name": "python",
   "nbconvert_exporter": "python",
   "pygments_lexer": "ipython3",
   "version": "3.9.12"
  },
  "orig_nbformat": 4
 },
 "nbformat": 4,
 "nbformat_minor": 2
}
