{
 "cells": [
  {
   "cell_type": "code",
   "execution_count": null,
   "metadata": {},
   "outputs": [],
   "source": [
    "import tensorflow as tf\n",
    "print(\"GPU\",tf.config.list_physical_devices(\"GPU\"))\n",
    "print(tf.test.is_gpu_available())\n",
    "print('valid tensorflow version')"
   ]
  },
  {
   "cell_type": "markdown",
   "metadata": {},
   "source": [
    "首先对Tensorflow-gpu版本进行验证，若输出为True以及valid tensorflow version,代表gpu版本安装正确。"
   ]
  },
  {
   "cell_type": "code",
   "execution_count": null,
   "metadata": {},
   "outputs": [],
   "source": [
    "import numpy as np\n",
    "import pandas as pd\n",
    "from keras.models import Sequential  #Sequential（翻译为堆叠、顺序即可）可以用来构建复杂的神经网络；\n",
    "from keras.layers import Dense,Dropout,Activation,LSTM,Flatten,TimeDistributed,RepeatVector\n",
    "from keras.layers.normalization import batch_normalization  #bach_normalizaiton定义一个标准化层\n",
    "from keras.optimizers import Adam  #优化器选择Adam算法  Adam:adaptive learning rate optimization algorithm\n",
    "from keras.callbacks import EarlyStopping,ModelCheckpoint  #Eerlystopping:当被监测的数量不再提升，则停止训练;  ModelCheckpoint:在每个训练期之后保存模型；\n",
    "from sklearn.preprocessing import StandardScaler,MinMaxScaler  #数据预处理\n",
    "import matplotlib.pyplot as plt\n",
    "%matplotlib inline  \n"
   ]
  },
  {
   "cell_type": "markdown",
   "metadata": {},
   "source": [
    "%matplotlib inline的功能是可以在Ipython编译器里直接使用，功能是可以内嵌绘图，并且可以省略掉plt.show()这一步。\n",
    "该Step的作用是对导入LSTM模型所需要的库；"
   ]
  },
  {
   "cell_type": "code",
   "execution_count": null,
   "metadata": {},
   "outputs": [],
   "source": [
    "n_in = 168  #168表示过去的七天的数据\n",
    "n_out = 24  #24表示要预测一天\n",
    "n_features = 1  #特征数为1\n",
    "n_val = 1  #验整的数据量\n",
    "n_epoachs = 250  #训练世代次数为250"
   ]
  },
  {
   "cell_type": "markdown",
   "metadata": {},
   "source": [
    "数据的颗粒度是小时，时长是一个月，n_out = 24,预测一天的流量，根据经验选择n_in = 168选择七天的数据进行预测即可；"
   ]
  },
  {
   "cell_type": "code",
   "execution_count": 52,
   "metadata": {},
   "outputs": [],
   "source": [
    "#d导入数据\n",
    "def load_stw_data() -> pd.DataFrame:\n",
    "    \n",
    "    df_stw = pd.read_excel('data3.xlsx')\n",
    "    df_stw.columns = ['BillingDate', 'VolumnHL']\n",
    "    \n",
    "    return df_stw"
   ]
  },
  {
   "cell_type": "code",
   "execution_count": null,
   "metadata": {},
   "outputs": [],
   "source": [
    "#MinMaxScaler数据归一化，可以帮助网络模型更快的拟合，稍微有一些提高准确率的效果\n",
    "def minmaxscaler(data: pd.DataFrame) -> pd.DataFrame:\n",
    "    \n",
    "    volume = data.VolumnHL.values\n",
    "    volume = volume.reshape(len(volume), 1)\n",
    "    volume = scaler.fit_transform(volume)  #这里fit_transform函数的输入比较严格，所以就需要做reshape，单纯的list是不行的\n",
    "    volume = volume.reshape(len(volume),)    \n",
    "    data['VolumnHL'] = volume\n",
    "    return data\n"
   ]
  },
  {
   "cell_type": "code",
   "execution_count": null,
   "metadata": {},
   "outputs": [],
   "source": [
    "#划分训练数据集和训练数据集，这里需要注意的是我们需要预测的数据是不可以出现在训练中的！\n",
    "def split_data(x,y,n_test:int):\n",
    "    x_train = x[:-n_val-n_out+1]\n",
    "    x_val = x[-n_val:]\n",
    "    y_train = y[:-n_val-n_out+1]\n",
    "    y_val = y[-n_val:]\n",
    "    return x_train, y_train, x_val, y_val\n"
   ]
  },
  {
   "cell_type": "code",
   "execution_count": null,
   "metadata": {},
   "outputs": [],
   "source": [
    "#划分X和Y\n",
    "def build_train(train, n_in, n_out):\n",
    "    \n",
    "    train = train.drop([\"BillingDate\"], axis=1)\n",
    "    X_train, Y_train = [], []\n",
    "    for i in range(train.shape[0]-n_in-n_out+1):\n",
    "        X_train.append(np.array(train.iloc[i:i+n_in]))\n",
    "        Y_train.append(np.array(train.iloc[i+n_in:i+n_in+n_out][\"VolumnHL\"]))\n",
    "        \n",
    "    return np.array(X_train), np.array(Y_train)\n",
    "   "
   ]
  },
  {
   "cell_type": "code",
   "execution_count": null,
   "metadata": {},
   "outputs": [],
   "source": [
    "#构建最简单的LSTM\n",
    "def build_lstm(n_in: int, n_features: int):\n",
    "    \n",
    "    model = Sequential()\n",
    "    model.add(LSTM(12, activation='relu', input_shape=(n_in, n_features)))\n",
    "    model.add(Dropout(0.3))\n",
    "    model.add(Dense(n_out))\n",
    "    model.compile(optimizer='adam', loss='mae')\n",
    "    \n",
    "    return model"
   ]
  }
 ],
 "metadata": {
  "interpreter": {
   "hash": "485a953d1e1fede342f8f7b4d38f9442f97918c1e7dd1151919e5eb8c7b4684a"
  },
  "kernelspec": {
   "display_name": "Python 3.9.12 ('tensorflow-gpu')",
   "language": "python",
   "name": "python3"
  },
  "language_info": {
   "codemirror_mode": {
    "name": "ipython",
    "version": 3
   },
   "file_extension": ".py",
   "mimetype": "text/x-python",
   "name": "python",
   "nbconvert_exporter": "python",
   "pygments_lexer": "ipython3",
   "version": "3.9.12"
  },
  "orig_nbformat": 4
 },
 "nbformat": 4,
 "nbformat_minor": 2
}
