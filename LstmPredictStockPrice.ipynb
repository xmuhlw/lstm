{
 "cells": [
  {
   "cell_type": "code",
   "execution_count": 13,
   "metadata": {},
   "outputs": [],
   "source": [
    "import pandas_datareader.data as web\n",
    "import datetime\n",
    "start = datetime.datetime(2000,1,1)\n",
    "end = datetime.datetime(2021,9,1)\n",
    "df = web.DataReader('GOOGL','stooq',start,end)"
   ]
  },
  {
   "cell_type": "code",
   "execution_count": 14,
   "metadata": {},
   "outputs": [
    {
     "name": "stdout",
     "output_type": "stream",
     "text": [
      "                Open      High       Low     Close      Volume\n",
      "Date                                                          \n",
      "2004-08-19    50.000    52.030    47.980    50.170  44703800.0\n",
      "2004-08-20    50.505    54.540    50.250    54.155  22857200.0\n",
      "2004-08-23    55.375    56.740    54.525    54.700  18274400.0\n",
      "2004-08-24    55.620    55.800    51.785    52.435  15262600.0\n",
      "2004-08-25    52.480    54.000    51.940    53.000   9197800.0\n",
      "...              ...       ...       ...       ...         ...\n",
      "2021-08-26  2835.000  2848.350  2827.140  2828.810   1030466.0\n",
      "2021-08-27  2833.050  2890.250  2829.940  2880.080   1439010.0\n",
      "2021-08-30  2888.000  2919.410  2883.260  2891.810   1221710.0\n",
      "2021-08-31  2902.940  2903.425  2885.620  2893.950   1122438.0\n",
      "2021-09-01  2900.000  2925.075  2897.670  2904.310   1096805.0\n",
      "\n",
      "[4290 rows x 5 columns]\n"
     ]
    }
   ],
   "source": [
    "df.sort_index(inplace=True)#对数据进行排序，inplace=True按照正序排列；\n",
    "print(df)"
   ]
  }
 ],
 "metadata": {
  "interpreter": {
   "hash": "485a953d1e1fede342f8f7b4d38f9442f97918c1e7dd1151919e5eb8c7b4684a"
  },
  "kernelspec": {
   "display_name": "Python 3.9.12 ('tensorflow-gpu')",
   "language": "python",
   "name": "python3"
  },
  "language_info": {
   "codemirror_mode": {
    "name": "ipython",
    "version": 3
   },
   "file_extension": ".py",
   "mimetype": "text/x-python",
   "name": "python",
   "nbconvert_exporter": "python",
   "pygments_lexer": "ipython3",
   "version": "3.9.12"
  },
  "orig_nbformat": 4
 },
 "nbformat": 4,
 "nbformat_minor": 2
}
