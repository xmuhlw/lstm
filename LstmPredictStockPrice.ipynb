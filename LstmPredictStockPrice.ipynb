{
 "cells": [
  {
   "cell_type": "code",
   "execution_count": null,
   "metadata": {},
   "outputs": [],
   "source": [
    "import pandas_datareader.data as web\n",
    "import datetime\n",
    "start = datetime.datetime(2000,1,1)\n",
    "end = datetime.datetime(2021,9,1)\n",
    "df = web.DataReader('GOOGL','stooq',start,end)"
   ]
  },
  {
   "cell_type": "code",
   "execution_count": null,
   "metadata": {},
   "outputs": [],
   "source": [
    "\n",
    "def Stock_Price_LSTM_Date_Precesing(df,mem_his_days,pre_days):\n",
    "    df.dropna(inplace=True)#删除空值\n",
    "    df.sort_index(inplace=True)#对数据进行排序，inplace=True按照时间正序排列；\n",
    "\n",
    "    df['label'] = df['Close'].shift(-pre_days)#定义label，让它与Close相差10天的值\n",
    "    from sklearn.preprocessing import StandardScaler\n",
    "    scaler = StandardScaler()\n",
    "    sca_X = scaler.fit_transform(df.iloc[:,:-1])#对数据进行标准化\n",
    "    #对特征向量空间进行设定\n",
    "\n",
    "    from collections import deque\n",
    "    deq = deque(maxlen=mem_his_days)#先进先出的队列\n",
    "    X = []\n",
    "    for i in sca_X:\n",
    "        deq.append(list(i))\n",
    "        if len(deq)==mem_his_days:\n",
    "            X.append(list(deq))\n",
    "    X_lately = X[-pre_days:]\n",
    "    X = X[:-pre_days]\n",
    "    y = df['label'].values[mem_his_days-1:-pre_days]\n",
    "    import numpy as np\n",
    "    X = np.array(X)\n",
    "    y = np.array(y)\n",
    "    return X,y,X_lately"
   ]
  },
  {
   "cell_type": "code",
   "execution_count": null,
   "metadata": {},
   "outputs": [],
   "source": [
    "X,y,X_lately = Stock_Price_LSTM_Date_Precesing(df,5,10)\n",
    "\n",
    "print(len(X))\n",
    "print(len(y))\n",
    "print(len(X_lately))"
   ]
  },
  {
   "cell_type": "code",
   "execution_count": null,
   "metadata": {},
   "outputs": [],
   "source": [
    "#用循环来找最优的超参数       思考：换成grid search\n",
    "pre_days = 10\n",
    "# mem_days = [5,10,15]\n",
    "# lstm_layers = [1,2,3]\n",
    "# dense_layers = [1,2,3]\n",
    "# units = [16,32]\n",
    "mem_days = [5]\n",
    "lstm_layers = [1]\n",
    "dense_layers = [1]\n",
    "units = [32]\n",
    "from tensorflow.keras.callbacks import ModelCheckpoint\n",
    "for the_mem_days in mem_days:\n",
    "    for the_lstm_layers in lstm_layers:\n",
    "        for the_dense_layers in dense_layers:\n",
    "            for the_unints in units:\n",
    "                filepath = './models/{val_mape:.2f}_{epoch:02d}_'+f'mem_{the_lstm_layers}_lstm_{the_lstm_layers}_dense_{the_dense_layers}_unit_{the_unints}'\n",
    "                checkpoint = ModelCheckpoint(\n",
    "                    filepath=filepath,\n",
    "                    save_weights_only=False,\n",
    "                    monitor='val_mape',\n",
    "                    mode='min',\n",
    "                    save_best_only=True)\n",
    "\n",
    "                X,y,X_lately = Stock_Price_LSTM_Date_Precesing(df,the_mem_days,pre_days)\n",
    "                from sklearn.model_selection import train_test_split#划分测试集与训练集\n",
    "                X_train,X_test,y_train,y_test = train_test_split(X,y,shuffle=False,test_size=0.1)\n",
    "\n",
    "                import tensorflow as tf\n",
    "                from tensorflow.keras.models import Sequential\n",
    "                from tensorflow.keras.layers import LSTM,Dense,Dropout\n",
    "                model = Sequential()\n",
    "                model.add(LSTM(the_unints,input_shape=X.shape[1:],activation='tanh',return_sequences=True))#第一层\n",
    "                model.add(Dropout(0.1))\n",
    "\n",
    "                for i in range(the_lstm_layers):\n",
    "                    model.add(LSTM(the_unints,activation='tanh',return_sequences=True))#第二层\n",
    "                    model.add(Dropout(0.1))\n",
    "                \n",
    "                \n",
    "                model.add(LSTM(the_unints,activation='tanh'))#第三层\n",
    "                model.add(Dropout(0.1))\n",
    "                \n",
    "                for i in range(the_dense_layers):\n",
    "                    model.add(Dense(the_unints,activation='relu'))#构建一个全连接层\n",
    "                    model.add(Dropout(0.1))\n",
    "\n",
    "                model.add(Dense(1))\n",
    "                model.compile(optimizer='adam',loss='mse',metrics=['mape'])\n",
    "                model.fit(X_train,y_train,batch_size=32,epochs=50,validation_data=(X_test,y_test),callbacks=[checkpoint])#训练模型\n"
   ]
  },
  {
   "cell_type": "code",
   "execution_count": null,
   "metadata": {},
   "outputs": [],
   "source": [
    "from tensorflow.keras.models import load_model\n",
    "best_model = load_model('./models/4.06_11_mem_1_lstm_1_dense_1_unit_32')\n",
    "\n",
    "pre = best_model.predict(X_test)\n",
    "print(pre)\n",
    "print(len(pre))"
   ]
  },
  {
   "cell_type": "code",
   "execution_count": null,
   "metadata": {},
   "outputs": [],
   "source": [
    "import matplotlib.pyplot as plt\n",
    "df_time = df.index[-len(y_test):]\n",
    "plt.plot(df_time,y_test,color='red',label='price')\n",
    "plt.plot(df_time,pre,color='green',label='predict')\n",
    "plt.show()"
   ]
  },
  {
   "cell_type": "code",
   "execution_count": null,
   "metadata": {},
   "outputs": [],
   "source": []
  }
 ],
 "metadata": {
  "interpreter": {
   "hash": "485a953d1e1fede342f8f7b4d38f9442f97918c1e7dd1151919e5eb8c7b4684a"
  },
  "kernelspec": {
   "display_name": "Python 3.9.12 ('tensorflow-gpu')",
   "language": "python",
   "name": "python3"
  },
  "language_info": {
   "codemirror_mode": {
    "name": "ipython",
    "version": 3
   },
   "file_extension": ".py",
   "mimetype": "text/x-python",
   "name": "python",
   "nbconvert_exporter": "python",
   "pygments_lexer": "ipython3",
   "version": "3.9.12"
  },
  "orig_nbformat": 4
 },
 "nbformat": 4,
 "nbformat_minor": 2
}
