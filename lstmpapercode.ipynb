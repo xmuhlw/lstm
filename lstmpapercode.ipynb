{
 "cells": [
  {
   "cell_type": "code",
   "execution_count": 23,
   "metadata": {},
   "outputs": [
    {
     "name": "stdout",
     "output_type": "stream",
     "text": [
      "                0      1                    2                   3  \\\n",
      "0             NaN      y                   x1                  x2   \n",
      "1        sample_1   0.18  0.26899999999999996  0.6509999999999999   \n",
      "2        sample_2   0.18                0.268                0.65   \n",
      "3        sample_3   0.18                0.268                0.66   \n",
      "4        sample_4   0.18                0.267  0.6679999999999999   \n",
      "...           ...    ...                  ...                 ...   \n",
      "2390  sample_2390  0.295                0.285  0.6459999999999999   \n",
      "2391  sample_2391  0.179                0.266  0.6659999999999999   \n",
      "2392  sample_2392  0.179                0.247  0.6659999999999999   \n",
      "2393  sample_2393  0.179  0.22899999999999998  0.6729999999999999   \n",
      "2394  sample_2394  0.179  0.21600000000000003               0.669   \n",
      "\n",
      "                       4                    5                   6  \\\n",
      "0                     x3                   x4                  x5   \n",
      "1                  0.833                0.583               0.785   \n",
      "2                  0.852                0.578  0.7759999999999999   \n",
      "3     0.8240000000000001   0.5720000000000001               0.765   \n",
      "4     0.8079999999999999   0.5660000000000001               0.753   \n",
      "...                  ...                  ...                 ...   \n",
      "2390  0.6890000000000001                0.355               0.616   \n",
      "2391  0.6659999999999999                0.354               0.589   \n",
      "2392               0.665                0.353               0.561   \n",
      "2393               0.677                0.353               0.531   \n",
      "2394  0.6779999999999999  0.35200000000000004                 0.5   \n",
      "\n",
      "                       7                   8  \n",
      "0                     x6                  x7  \n",
      "1                  0.843  0.8220000000000001  \n",
      "2     0.8390000000000001  0.8220000000000001  \n",
      "3     0.8079999999999999  0.7859999999999999  \n",
      "4                    0.8  0.7859999999999999  \n",
      "...                  ...                 ...  \n",
      "2390               0.609               0.501  \n",
      "2391  0.5820000000000001               0.509  \n",
      "2392               0.602               0.523  \n",
      "2393               0.637  0.5379999999999999  \n",
      "2394               0.685                0.57  \n",
      "\n",
      "[2395 rows x 9 columns]\n"
     ]
    }
   ],
   "source": [
    "#导入数据\n",
    "import pandas as pd\n",
    "df = pd.read_csv('debutanizer_y_10.csv',header = None)\n",
    "df.sort_index(inplace =True)\n",
    "print(df)\n"
   ]
  }
 ],
 "metadata": {
  "interpreter": {
   "hash": "485a953d1e1fede342f8f7b4d38f9442f97918c1e7dd1151919e5eb8c7b4684a"
  },
  "kernelspec": {
   "display_name": "Python 3.9.12 ('tensorflow-gpu')",
   "language": "python",
   "name": "python3"
  },
  "language_info": {
   "codemirror_mode": {
    "name": "ipython",
    "version": 3
   },
   "file_extension": ".py",
   "mimetype": "text/x-python",
   "name": "python",
   "nbconvert_exporter": "python",
   "pygments_lexer": "ipython3",
   "version": "3.9.12"
  },
  "orig_nbformat": 4
 },
 "nbformat": 4,
 "nbformat_minor": 2
}
